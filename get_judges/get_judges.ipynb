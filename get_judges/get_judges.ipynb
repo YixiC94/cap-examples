{
 "cells": [
  {
   "cell_type": "markdown",
   "metadata": {},
   "source": [
    "## Get judges from case\n",
    "\n",
    "Get cases json from the API, return all judges from that case\n",
    "\n",
    "Map the judges to a CourtListener URL"
   ]
  },
  {
   "cell_type": "code",
   "execution_count": 1,
   "metadata": {},
   "outputs": [],
   "source": [
    "import re\n",
    "import os\n",
    "import sys\n",
    "sys.path.append('..')\n",
    "\n",
    "import requests\n",
    "\n",
    "from config import settings\n",
    "import utils"
   ]
  },
  {
   "cell_type": "code",
   "execution_count": 2,
   "metadata": {},
   "outputs": [],
   "source": [
    "url = utils.get_api_url() + 'cases/?jurisdiction=ill&full_case=true&format=json'\n",
    "headers = {'AUTHORIZATION': 'Token {}'.format(settings.API_KEY)}\n",
    "response = requests.get(url, headers=headers)\n",
    "res = response.json()"
   ]
  },
  {
   "cell_type": "code",
   "execution_count": 3,
   "metadata": {},
   "outputs": [
    {
     "name": "stdout",
     "output_type": "stream",
     "text": [
      "100 results found\n"
     ]
    }
   ],
   "source": [
    "cases = res['results']\n",
    "print(len(cases), \"results found\")"
   ]
  },
  {
   "cell_type": "code",
   "execution_count": 4,
   "metadata": {},
   "outputs": [
    {
     "name": "stdout",
     "output_type": "stream",
     "text": [
      "[[2747110, 'majority', 'https://www.courtlistener.com/api/rest/v3/people/?name_last=Eberspacher', 'Mr. PRESIDING JUSTICE EBERSPACHER'], [435530, 'majority', 'https://www.courtlistener.com/api/rest/v3/people/?name_last=Reynolds&name_first=John', 'Justice John Reynolds.'], [435536, 'majority', 'https://www.courtlistener.com/api/rest/v3/people/?name_last=Reynolds', 'Chief Justice Reynolds,'], [435546, 'majority', 'https://www.courtlistener.com/api/rest/v3/people/?name_last=Reynolds&name_first=John', 'Justice John Reynolds.'], [435548, 'majority', 'https://www.courtlistener.com/api/rest/v3/people/?name_last=Reynolds', 'Chief Justice Reynolds.']]\n"
     ]
    }
   ],
   "source": [
    "not_useful = [\"chief\", \"justice\", \"judge\", \"and\", \"associate\",\"mr\", \"mrs\", \"ms\", \"presiding\",\"opinion\"]\n",
    "not_names = [\"memorandum\", \"per curiam\", \"opinion of the court\", \"the court\", \"dissenting\", \"justice\" ]\n",
    "courtlistener_people_api = \"https://www.courtlistener.com/api/rest/v3/people/\"\n",
    "def get_author_name(idx, opinion):\n",
    "    judges = []\n",
    "    try:\n",
    "        authors = opinion['author'].split(', ')\n",
    "        for author in authors:\n",
    "            original_author = author\n",
    "            author_name = fix_name(author)\n",
    "            if author_name in not_names:\n",
    "                continue\n",
    "            first_name = ''\n",
    "            name_parts = author_name.split(' ')\n",
    "               \n",
    "            if len(name_parts) > 1:\n",
    "                author_name = name_parts[-1]\n",
    "                if len(name_parts[0]) > 1:\n",
    "                    first_name = name_parts[0]\n",
    "            if len(author_name) > 1 and author_name not in not_names:\n",
    "                author_name = author_name.capitalize() \n",
    "                if '-' in author_name:\n",
    "                    # keep hyphenations in people's names, capitalize each hyphenated part\n",
    "                    name_parts = author_name.split('-')\n",
    "                    author_name = ''\n",
    "                    for idx,part in enumerate(name_parts):\n",
    "                        if idx < len(name_parts) - 1:\n",
    "                            author_name += part.capitalize() + '-' \n",
    "                        else:\n",
    "                            author_name += part.capitalize()\n",
    "                url = \"%s?name_last=%s\" % (courtlistener_people_api, author_name)\n",
    "                if first_name:\n",
    "                    url += \"&name_first=%s\" % first_name.capitalize()\n",
    "                judges.append([idx, opinion['type'], url, original_author])\n",
    "    except:\n",
    "        # for one reason or another the opinion doesn't have an author. \n",
    "        # Sometimes it's because the judges have decided that case is not to be treated as precedential\n",
    "        pass\n",
    "    return judges\n",
    "\n",
    "def fix_name(name):\n",
    "    name = re.sub('[^0-9a-zA-Z\\-\\s]+', '', name)\n",
    "    name = name.lower()\n",
    "    for nu in not_useful:\n",
    "        name = name.replace(nu + ' ','')\n",
    "    return name.strip()\n",
    "\n",
    "\n",
    "def get_all_judges(cases, opinion_type=None):\n",
    "    judge_results = []\n",
    "    for case in cases:\n",
    "\n",
    "        opinions = case['casebody']['data']['opinions']\n",
    "\n",
    "        for opinion in opinions:\n",
    "            if opinion_type:\n",
    "                if opinion['type'] == opinion_type:\n",
    "                    names = get_author_name(case['id'],opinion)\n",
    "            else:\n",
    "                names = get_author_name(case['id'],opinion)\n",
    "            if names:\n",
    "                judge_results += names\n",
    "    return judge_results\n",
    "judges = get_all_judges(cases)\n",
    "\n",
    "# print first five\n",
    "print(judges[0:5])"
   ]
  },
  {
   "cell_type": "markdown",
   "metadata": {},
   "source": [
    "## DataFrames!"
   ]
  },
  {
   "cell_type": "code",
   "execution_count": 5,
   "metadata": {},
   "outputs": [
    {
     "data": {
      "text/html": [
       "<div>\n",
       "<style scoped>\n",
       "    .dataframe tbody tr th:only-of-type {\n",
       "        vertical-align: middle;\n",
       "    }\n",
       "\n",
       "    .dataframe tbody tr th {\n",
       "        vertical-align: top;\n",
       "    }\n",
       "\n",
       "    .dataframe thead th {\n",
       "        text-align: right;\n",
       "    }\n",
       "</style>\n",
       "<table border=\"1\" class=\"dataframe\">\n",
       "  <thead>\n",
       "    <tr style=\"text-align: right;\">\n",
       "      <th></th>\n",
       "      <th>id</th>\n",
       "      <th>type</th>\n",
       "      <th>best_guess_url</th>\n",
       "      <th>original</th>\n",
       "    </tr>\n",
       "  </thead>\n",
       "  <tbody>\n",
       "    <tr>\n",
       "      <th>0</th>\n",
       "      <td>2747110</td>\n",
       "      <td>majority</td>\n",
       "      <td>https://www.courtlistener.com/api/rest/v3/peop...</td>\n",
       "      <td>Mr. PRESIDING JUSTICE EBERSPACHER</td>\n",
       "    </tr>\n",
       "    <tr>\n",
       "      <th>1</th>\n",
       "      <td>435530</td>\n",
       "      <td>majority</td>\n",
       "      <td>https://www.courtlistener.com/api/rest/v3/peop...</td>\n",
       "      <td>Justice John Reynolds.</td>\n",
       "    </tr>\n",
       "    <tr>\n",
       "      <th>2</th>\n",
       "      <td>435536</td>\n",
       "      <td>majority</td>\n",
       "      <td>https://www.courtlistener.com/api/rest/v3/peop...</td>\n",
       "      <td>Chief Justice Reynolds,</td>\n",
       "    </tr>\n",
       "    <tr>\n",
       "      <th>3</th>\n",
       "      <td>435546</td>\n",
       "      <td>majority</td>\n",
       "      <td>https://www.courtlistener.com/api/rest/v3/peop...</td>\n",
       "      <td>Justice John Reynolds.</td>\n",
       "    </tr>\n",
       "    <tr>\n",
       "      <th>4</th>\n",
       "      <td>435548</td>\n",
       "      <td>majority</td>\n",
       "      <td>https://www.courtlistener.com/api/rest/v3/peop...</td>\n",
       "      <td>Chief Justice Reynolds.</td>\n",
       "    </tr>\n",
       "  </tbody>\n",
       "</table>\n",
       "</div>"
      ],
      "text/plain": [
       "        id      type                                     best_guess_url  \\\n",
       "0  2747110  majority  https://www.courtlistener.com/api/rest/v3/peop...   \n",
       "1   435530  majority  https://www.courtlistener.com/api/rest/v3/peop...   \n",
       "2   435536  majority  https://www.courtlistener.com/api/rest/v3/peop...   \n",
       "3   435546  majority  https://www.courtlistener.com/api/rest/v3/peop...   \n",
       "4   435548  majority  https://www.courtlistener.com/api/rest/v3/peop...   \n",
       "\n",
       "                            original  \n",
       "0  Mr. PRESIDING JUSTICE EBERSPACHER  \n",
       "1             Justice John Reynolds.  \n",
       "2            Chief Justice Reynolds,  \n",
       "3             Justice John Reynolds.  \n",
       "4            Chief Justice Reynolds.  "
      ]
     },
     "execution_count": 5,
     "metadata": {},
     "output_type": "execute_result"
    }
   ],
   "source": [
    "import pandas as pd\n",
    "judge_df = pd.DataFrame(data=judges, columns=[\"id\",\"type\",\"best_guess_url\",\"original\"])\n",
    "judge_df.head()"
   ]
  }
 ],
 "metadata": {
  "kernelspec": {
   "display_name": "Python 3",
   "language": "python",
   "name": "python3"
  },
  "language_info": {
   "codemirror_mode": {
    "name": "ipython",
    "version": 3
   },
   "file_extension": ".py",
   "mimetype": "text/x-python",
   "name": "python",
   "nbconvert_exporter": "python",
   "pygments_lexer": "ipython3",
   "version": "3.5.4"
  }
 },
 "nbformat": 4,
 "nbformat_minor": 1
}
